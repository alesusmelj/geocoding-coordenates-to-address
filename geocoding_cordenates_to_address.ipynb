{
 "cells": [
  {
   "cell_type": "code",
   "execution_count": 12,
   "id": "cf7b667a",
   "metadata": {},
   "outputs": [],
   "source": [
    "import requests\n",
    "import pandas as pd"
   ]
  },
  {
   "cell_type": "markdown",
   "id": "7673374d",
   "metadata": {},
   "source": [
    "# Geocoding\n",
    "### Convert coordenates to address using Google's API\n",
    "\n",
    "#### Requirements:\n",
    "\n",
    "A dataset with fields called `latitude` and `longitude` without nulls or incorrect values.\n",
    "\n",
    "#### Dataset:\n",
    "\n",
    "Currently, it's being used a dataset of inmobiliary properties distribiuted by Properatti ([Kaggle, Properatti 2020-2021](https://www.kaggle.com/datasets/jluza92/argentina-properati-listings-dataset-20202021))"
   ]
  },
  {
   "cell_type": "code",
   "execution_count": 17,
   "id": "e8f23a7d",
   "metadata": {},
   "outputs": [],
   "source": [
    "# Function to obtain an address, zipcode and city based on a latitude and longitude, using Google's API\n",
    "\n",
    "def get_address_from_coords(lat, lon):\n",
    "    url = f'https://maps.googleapis.com/maps/api/geocode/json?latlng={lat},{lon}&key={API_KEY}'\n",
    "    response = requests.get(url)\n",
    "    \n",
    "    if response.status_code == 200:\n",
    "        result = response.json()\n",
    "        if 'results' in result and len(result['results']) > 0:\n",
    "            return result['results'][0]['formatted_address']\n",
    "        else:\n",
    "            return \"No address found\"\n",
    "        \n",
    "    else:\n",
    "        return f\"Error: {response.status_code}\""
   ]
  },
  {
   "cell_type": "code",
   "execution_count": 119,
   "id": "1380dd99",
   "metadata": {
    "scrolled": true
   },
   "outputs": [],
   "source": [
    "# Import a file already cleaned that has columns latitude and longitude\n",
    "\n",
    "data = pd.read_csv(\"./ProperattiDataset.csv\")"
   ]
  },
  {
   "cell_type": "code",
   "execution_count": 43,
   "id": "aff3d396",
   "metadata": {},
   "outputs": [],
   "source": [
    "# Keep only necesarry columns\n",
    "\n",
    "df = data[[\"latitude\", \"longitude\"]]"
   ]
  },
  {
   "cell_type": "code",
   "execution_count": 114,
   "id": "11681bd8",
   "metadata": {},
   "outputs": [],
   "source": [
    "# API Key of Google API\n",
    "# https://cloud.google.com/apis/?utm_source=google&utm_medium=cpc&utm_campaign=latam-AR-all-es-dr-SKWS-all-all-trial-b-dr-1707800-LUAC0020059&utm_content=text-ad-none-any-DEV_c-CRE_649255894226-ADGP_Hybrid+%7C+SKWS+-+BRO+%7C+Txt_API+Management-General-KWID_43700075322947659-kwd-23207200&utm_term=KW_api-ST_API&gad_source=1&gclid=Cj0KCQjwrp-3BhDgARIsAEWJ6Sww4IHGtBSG-iK1ejCfnjjEAzJt56JNPNfEsp5COZAO5f7iiKh7cuwaAnyHEALw_wcB&gclsrc=aw.ds\n",
    "\n",
    "API_KEY = \"API-KEY\""
   ]
  },
  {
   "cell_type": "code",
   "execution_count": 18,
   "id": "41b48aab",
   "metadata": {
    "scrolled": true
   },
   "outputs": [
    {
     "name": "stderr",
     "output_type": "stream",
     "text": [
      "C:\\Users\\alesu\\AppData\\Local\\Temp\\ipykernel_8752\\432865099.py:1: SettingWithCopyWarning: \n",
      "A value is trying to be set on a copy of a slice from a DataFrame.\n",
      "Try using .loc[row_indexer,col_indexer] = value instead\n",
      "\n",
      "See the caveats in the documentation: https://pandas.pydata.org/pandas-docs/stable/user_guide/indexing.html#returning-a-view-versus-a-copy\n",
      "  df['address'] = df.apply(lambda row: get_address_from_coords(row['latitude'], row['longitude']), axis=1)\n"
     ]
    }
   ],
   "source": [
    "# Applies function 'get_address_from_coords' to each row and adds it on a new columns named address\n",
    "\n",
    "data['address'] = df.apply(lambda row: get_address_from_coords(row['latitude'], row['longitude']), axis=1)"
   ]
  },
  {
   "cell_type": "code",
   "execution_count": 79,
   "id": "57b8048e",
   "metadata": {},
   "outputs": [],
   "source": [
    "# REGEX function to keep only the zipcode from the address field.\n",
    "# It keeps all characthers that starts with a capital letter, an optional space and 4 digits\n",
    "\n",
    "data['zipcode'] = data['address'].str.extract(r'([A-Z]\\s?\\d{4})', expand=False)"
   ]
  },
  {
   "cell_type": "code",
   "execution_count": 80,
   "id": "2d2182e2",
   "metadata": {},
   "outputs": [],
   "source": [
    "# Keep only the direction from the address field.\n",
    "# All characters after before the first comma\n",
    "\n",
    "data['address'] = data['address'].str.split(',', n=1, expand=True)[0].str.strip()"
   ]
  },
  {
   "cell_type": "code",
   "execution_count": null,
   "id": "0ae532e6",
   "metadata": {},
   "outputs": [],
   "source": [
    "# Delete nulls and prints how many nulls each column has\n",
    "\n",
    "data.dropna(axis=0, how=\"any\", inplace=True)\n",
    "data.isnull().sum()"
   ]
  },
  {
   "cell_type": "code",
   "execution_count": 117,
   "id": "bafc2202",
   "metadata": {},
   "outputs": [],
   "source": [
    "# Export the data\n",
    "\n",
    "data.to_csv('datasetFinalissima_.csv', index=False)"
   ]
  }
 ],
 "metadata": {
  "kernelspec": {
   "display_name": "Python 3 (ipykernel)",
   "language": "python",
   "name": "python3"
  },
  "language_info": {
   "codemirror_mode": {
    "name": "ipython",
    "version": 3
   },
   "file_extension": ".py",
   "mimetype": "text/x-python",
   "name": "python",
   "nbconvert_exporter": "python",
   "pygments_lexer": "ipython3",
   "version": "3.9.12"
  }
 },
 "nbformat": 4,
 "nbformat_minor": 5
}
